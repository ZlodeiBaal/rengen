{
 "cells": [
  {
   "cell_type": "code",
   "execution_count": 25,
   "metadata": {},
   "outputs": [],
   "source": [
    "import pandas as pd\n",
    "import math"
   ]
  },
  {
   "cell_type": "code",
   "execution_count": 259,
   "metadata": {},
   "outputs": [],
   "source": [
    "df_exp = pd.read_csv(\"Dataset/OpenPart.csv\")\n",
    "df_exp.head()\n",
    "df_exp.set_index(\"Case\",inplace=True)"
   ]
  },
  {
   "cell_type": "code",
   "execution_count": 257,
   "metadata": {},
   "outputs": [
    {
     "data": {
      "text/plain": [
       "'00000150_002.png'"
      ]
     },
     "execution_count": 257,
     "metadata": {},
     "output_type": "execute_result"
    }
   ],
   "source": [
    "df_exp.loc[df_exp.Case.str.contains(\"00000150_002\")].iloc[0][\"Case\"]"
   ]
  },
  {
   "cell_type": "code",
   "execution_count": 266,
   "metadata": {},
   "outputs": [
    {
     "data": {
      "text/plain": [
       "5"
      ]
     },
     "execution_count": 266,
     "metadata": {},
     "output_type": "execute_result"
    }
   ],
   "source": [
    "df_exp.loc[\"00000150_002\"+\".png\"][\"Sample_1\".replace(\"_\",\" \")]"
   ]
  },
  {
   "cell_type": "code",
   "execution_count": 268,
   "metadata": {},
   "outputs": [
    {
     "data": {
      "text/plain": [
       "False"
      ]
     },
     "execution_count": 268,
     "metadata": {},
     "output_type": "execute_result"
    }
   ],
   "source": [
    "\"00000150_0d02\"+\".png\" in df_exp.index"
   ]
  },
  {
   "cell_type": "code",
   "execution_count": 258,
   "metadata": {},
   "outputs": [
    {
     "data": {
      "text/html": [
       "<div>\n",
       "<style scoped>\n",
       "    .dataframe tbody tr th:only-of-type {\n",
       "        vertical-align: middle;\n",
       "    }\n",
       "\n",
       "    .dataframe tbody tr th {\n",
       "        vertical-align: top;\n",
       "    }\n",
       "\n",
       "    .dataframe thead th {\n",
       "        text-align: right;\n",
       "    }\n",
       "</style>\n",
       "<table border=\"1\" class=\"dataframe\">\n",
       "  <thead>\n",
       "    <tr style=\"text-align: right;\">\n",
       "      <th></th>\n",
       "      <th>Case</th>\n",
       "      <th>Sample 1</th>\n",
       "      <th>Sample 2</th>\n",
       "      <th>Sample 3</th>\n",
       "    </tr>\n",
       "  </thead>\n",
       "  <tbody>\n",
       "    <tr>\n",
       "      <th>1</th>\n",
       "      <td>00000150_002.png</td>\n",
       "      <td>5</td>\n",
       "      <td>5</td>\n",
       "      <td>3</td>\n",
       "    </tr>\n",
       "  </tbody>\n",
       "</table>\n",
       "</div>"
      ],
      "text/plain": [
       "               Case  Sample 1  Sample 2  Sample 3\n",
       "1  00000150_002.png         5         5         3"
      ]
     },
     "execution_count": 258,
     "metadata": {},
     "output_type": "execute_result"
    }
   ],
   "source": [
    "df_exp[df_exp.Case ==\"00000150_002\"+\".png\"]"
   ]
  },
  {
   "cell_type": "code",
   "execution_count": 14,
   "metadata": {},
   "outputs": [],
   "source": [
    "df_raw = pd.read_csv(\"Dataset/DX_TEST_RESULT_FULL.csv\")\n",
    "df_raw.rename({v:v[1:]  for v in df_raw.columns if v[0]==\" \"}, axis=1, inplace=True)\n"
   ]
  },
  {
   "cell_type": "code",
   "execution_count": 15,
   "metadata": {},
   "outputs": [
    {
     "data": {
      "text/html": [
       "<div>\n",
       "<style scoped>\n",
       "    .dataframe tbody tr th:only-of-type {\n",
       "        vertical-align: middle;\n",
       "    }\n",
       "\n",
       "    .dataframe tbody tr th {\n",
       "        vertical-align: top;\n",
       "    }\n",
       "\n",
       "    .dataframe thead th {\n",
       "        text-align: right;\n",
       "    }\n",
       "</style>\n",
       "<table border=\"1\" class=\"dataframe\">\n",
       "  <thead>\n",
       "    <tr style=\"text-align: right;\">\n",
       "      <th></th>\n",
       "      <th>file_name</th>\n",
       "      <th>user_name</th>\n",
       "      <th>xcenter</th>\n",
       "      <th>ycenter</th>\n",
       "      <th>rhorizontal</th>\n",
       "      <th>rvertical</th>\n",
       "      <th>shape</th>\n",
       "      <th>Unnamed: 7</th>\n",
       "    </tr>\n",
       "  </thead>\n",
       "  <tbody>\n",
       "    <tr>\n",
       "      <th>0</th>\n",
       "      <td>00000150_002</td>\n",
       "      <td>sample_2</td>\n",
       "      <td>737.882353</td>\n",
       "      <td>690.389140</td>\n",
       "      <td>64.482655</td>\n",
       "      <td>28.573152</td>\n",
       "      <td>rectangle</td>\n",
       "      <td>NaN</td>\n",
       "    </tr>\n",
       "    <tr>\n",
       "      <th>1</th>\n",
       "      <td>00000181_061</td>\n",
       "      <td>sample_2</td>\n",
       "      <td>317.007541</td>\n",
       "      <td>749.466063</td>\n",
       "      <td>133.984917</td>\n",
       "      <td>198.081448</td>\n",
       "      <td>rectangle</td>\n",
       "      <td>NaN</td>\n",
       "    </tr>\n",
       "    <tr>\n",
       "      <th>2</th>\n",
       "      <td>00000181_061</td>\n",
       "      <td>sample_2</td>\n",
       "      <td>731.318250</td>\n",
       "      <td>926.696833</td>\n",
       "      <td>152.132730</td>\n",
       "      <td>69.502262</td>\n",
       "      <td>rectangle</td>\n",
       "      <td>NaN</td>\n",
       "    </tr>\n",
       "    <tr>\n",
       "      <th>3</th>\n",
       "      <td>00000181_061</td>\n",
       "      <td>sample_2</td>\n",
       "      <td>714.714932</td>\n",
       "      <td>628.609351</td>\n",
       "      <td>129.351433</td>\n",
       "      <td>216.229261</td>\n",
       "      <td>rectangle</td>\n",
       "      <td>NaN</td>\n",
       "    </tr>\n",
       "    <tr>\n",
       "      <th>4</th>\n",
       "      <td>00000211_019</td>\n",
       "      <td>sample_2</td>\n",
       "      <td>360.639517</td>\n",
       "      <td>589.224736</td>\n",
       "      <td>105.025641</td>\n",
       "      <td>219.318250</td>\n",
       "      <td>rectangle</td>\n",
       "      <td>NaN</td>\n",
       "    </tr>\n",
       "  </tbody>\n",
       "</table>\n",
       "</div>"
      ],
      "text/plain": [
       "      file_name user_name     xcenter     ycenter  rhorizontal   rvertical  \\\n",
       "0  00000150_002  sample_2  737.882353  690.389140    64.482655   28.573152   \n",
       "1  00000181_061  sample_2  317.007541  749.466063   133.984917  198.081448   \n",
       "2  00000181_061  sample_2  731.318250  926.696833   152.132730   69.502262   \n",
       "3  00000181_061  sample_2  714.714932  628.609351   129.351433  216.229261   \n",
       "4  00000211_019  sample_2  360.639517  589.224736   105.025641  219.318250   \n",
       "\n",
       "       shape Unnamed: 7  \n",
       "0  rectangle        NaN  \n",
       "1  rectangle        NaN  \n",
       "2  rectangle        NaN  \n",
       "3  rectangle        NaN  \n",
       "4  rectangle        NaN  "
      ]
     },
     "execution_count": 15,
     "metadata": {},
     "output_type": "execute_result"
    }
   ],
   "source": [
    "df_raw.head()"
   ]
  },
  {
   "cell_type": "code",
   "execution_count": 4,
   "metadata": {},
   "outputs": [],
   "source": [
    "df_raw.file_name.value_counts()"
   ]
  },
  {
   "cell_type": "code",
   "execution_count": 24,
   "metadata": {},
   "outputs": [
    {
     "data": {
      "text/html": [
       "<div>\n",
       "<style scoped>\n",
       "    .dataframe tbody tr th:only-of-type {\n",
       "        vertical-align: middle;\n",
       "    }\n",
       "\n",
       "    .dataframe tbody tr th {\n",
       "        vertical-align: top;\n",
       "    }\n",
       "\n",
       "    .dataframe thead th {\n",
       "        text-align: right;\n",
       "    }\n",
       "</style>\n",
       "<table border=\"1\" class=\"dataframe\">\n",
       "  <thead>\n",
       "    <tr style=\"text-align: right;\">\n",
       "      <th></th>\n",
       "      <th>file_name</th>\n",
       "      <th>user_name</th>\n",
       "      <th>xcenter</th>\n",
       "      <th>ycenter</th>\n",
       "      <th>rhorizontal</th>\n",
       "      <th>rvertical</th>\n",
       "      <th>shape</th>\n",
       "      <th>Unnamed: 7</th>\n",
       "    </tr>\n",
       "  </thead>\n",
       "  <tbody>\n",
       "    <tr>\n",
       "      <th>32</th>\n",
       "      <td>00000150_002</td>\n",
       "      <td>Expert</td>\n",
       "      <td>771.431635</td>\n",
       "      <td>700.739946</td>\n",
       "      <td>30.198391</td>\n",
       "      <td>28.139410</td>\n",
       "      <td>circle</td>\n",
       "      <td>NaN</td>\n",
       "    </tr>\n",
       "    <tr>\n",
       "      <th>34</th>\n",
       "      <td>00000181_061</td>\n",
       "      <td>Expert</td>\n",
       "      <td>743.292225</td>\n",
       "      <td>601.908847</td>\n",
       "      <td>74.809651</td>\n",
       "      <td>111.871314</td>\n",
       "      <td>circle</td>\n",
       "      <td>NaN</td>\n",
       "    </tr>\n",
       "    <tr>\n",
       "      <th>36</th>\n",
       "      <td>00000211_019</td>\n",
       "      <td>Expert</td>\n",
       "      <td>323.946381</td>\n",
       "      <td>605.340483</td>\n",
       "      <td>35.689008</td>\n",
       "      <td>146.873995</td>\n",
       "      <td>circle</td>\n",
       "      <td>NaN</td>\n",
       "    </tr>\n",
       "    <tr>\n",
       "      <th>37</th>\n",
       "      <td>00000211_019</td>\n",
       "      <td>Expert</td>\n",
       "      <td>752.900804</td>\n",
       "      <td>487.978552</td>\n",
       "      <td>50.101877</td>\n",
       "      <td>50.101877</td>\n",
       "      <td>circle</td>\n",
       "      <td>NaN</td>\n",
       "    </tr>\n",
       "    <tr>\n",
       "      <th>38</th>\n",
       "      <td>00000211_041</td>\n",
       "      <td>Expert</td>\n",
       "      <td>209.329759</td>\n",
       "      <td>551.806971</td>\n",
       "      <td>62.455764</td>\n",
       "      <td>152.364611</td>\n",
       "      <td>circle</td>\n",
       "      <td>NaN</td>\n",
       "    </tr>\n",
       "    <tr>\n",
       "      <th>...</th>\n",
       "      <td>...</td>\n",
       "      <td>...</td>\n",
       "      <td>...</td>\n",
       "      <td>...</td>\n",
       "      <td>...</td>\n",
       "      <td>...</td>\n",
       "      <td>...</td>\n",
       "      <td>...</td>\n",
       "    </tr>\n",
       "    <tr>\n",
       "      <th>894</th>\n",
       "      <td>00020124_003</td>\n",
       "      <td>Expert</td>\n",
       "      <td>761.823056</td>\n",
       "      <td>458.466488</td>\n",
       "      <td>30.198391</td>\n",
       "      <td>24.707775</td>\n",
       "      <td>circle</td>\n",
       "      <td>NaN</td>\n",
       "    </tr>\n",
       "    <tr>\n",
       "      <th>895</th>\n",
       "      <td>00020124_003</td>\n",
       "      <td>Expert</td>\n",
       "      <td>695.249330</td>\n",
       "      <td>409.050938</td>\n",
       "      <td>29.512064</td>\n",
       "      <td>28.825737</td>\n",
       "      <td>circle</td>\n",
       "      <td>NaN</td>\n",
       "    </tr>\n",
       "    <tr>\n",
       "      <th>896</th>\n",
       "      <td>00020124_003</td>\n",
       "      <td>Expert</td>\n",
       "      <td>819.474531</td>\n",
       "      <td>481.115282</td>\n",
       "      <td>27.453083</td>\n",
       "      <td>26.766756</td>\n",
       "      <td>circle</td>\n",
       "      <td>NaN</td>\n",
       "    </tr>\n",
       "    <tr>\n",
       "      <th>897</th>\n",
       "      <td>00020124_003</td>\n",
       "      <td>Expert</td>\n",
       "      <td>334.241287</td>\n",
       "      <td>609.458445</td>\n",
       "      <td>85.790885</td>\n",
       "      <td>64.514745</td>\n",
       "      <td>circle</td>\n",
       "      <td>NaN</td>\n",
       "    </tr>\n",
       "    <tr>\n",
       "      <th>898</th>\n",
       "      <td>00020124_003</td>\n",
       "      <td>Expert</td>\n",
       "      <td>648.579088</td>\n",
       "      <td>634.852547</td>\n",
       "      <td>39.120643</td>\n",
       "      <td>29.512064</td>\n",
       "      <td>circle</td>\n",
       "      <td>NaN</td>\n",
       "    </tr>\n",
       "  </tbody>\n",
       "</table>\n",
       "<p>655 rows × 8 columns</p>\n",
       "</div>"
      ],
      "text/plain": [
       "        file_name user_name     xcenter     ycenter  rhorizontal   rvertical  \\\n",
       "32   00000150_002    Expert  771.431635  700.739946    30.198391   28.139410   \n",
       "34   00000181_061    Expert  743.292225  601.908847    74.809651  111.871314   \n",
       "36   00000211_019    Expert  323.946381  605.340483    35.689008  146.873995   \n",
       "37   00000211_019    Expert  752.900804  487.978552    50.101877   50.101877   \n",
       "38   00000211_041    Expert  209.329759  551.806971    62.455764  152.364611   \n",
       "..            ...       ...         ...         ...          ...         ...   \n",
       "894  00020124_003    Expert  761.823056  458.466488    30.198391   24.707775   \n",
       "895  00020124_003    Expert  695.249330  409.050938    29.512064   28.825737   \n",
       "896  00020124_003    Expert  819.474531  481.115282    27.453083   26.766756   \n",
       "897  00020124_003    Expert  334.241287  609.458445    85.790885   64.514745   \n",
       "898  00020124_003    Expert  648.579088  634.852547    39.120643   29.512064   \n",
       "\n",
       "      shape Unnamed: 7  \n",
       "32   circle        NaN  \n",
       "34   circle        NaN  \n",
       "36   circle        NaN  \n",
       "37   circle        NaN  \n",
       "38   circle        NaN  \n",
       "..      ...        ...  \n",
       "894  circle        NaN  \n",
       "895  circle        NaN  \n",
       "896  circle        NaN  \n",
       "897  circle        NaN  \n",
       "898  circle        NaN  \n",
       "\n",
       "[655 rows x 8 columns]"
      ]
     },
     "execution_count": 24,
     "metadata": {},
     "output_type": "execute_result"
    }
   ],
   "source": [
    "df_raw[df_raw[\"shape\"]==\"circle\"]"
   ]
  },
  {
   "cell_type": "code",
   "execution_count": 361,
   "metadata": {},
   "outputs": [],
   "source": [
    "from shapely.geometry import Polygon\n",
    "p1 = Polygon([(0,0), (10,0),(10,10),(0,10)])#,(10,0), (11,0),(11,1),(10,1) ])\n",
    "p2 = Polygon([(5,-5), (5,15), (8,15),(8,-5)])\n",
    "\n",
    "print(p1.difference(p2),p1.difference(p2).area)"
   ]
  },
  {
   "cell_type": "code",
   "execution_count": 368,
   "metadata": {},
   "outputs": [
    {
     "name": "stdout",
     "output_type": "stream",
     "text": [
      "MULTIPOLYGON (((5 0, 0 0, 0 10, 5 10, 5 0)), ((8 10, 10 10, 10 0, 8 0, 8 10)))\n"
     ]
    }
   ],
   "source": [
    "print(p3.difference(p2))"
   ]
  },
  {
   "cell_type": "code",
   "execution_count": 362,
   "metadata": {},
   "outputs": [
    {
     "data": {
      "image/png": "[encoded data removed]",
      "text/plain": [
       "<Figure size 432x288 with 1 Axes>"
      ]
     },
     "metadata": {
      "needs_background": "light"
     },
     "output_type": "display_data"
    }
   ],
   "source": [
    "import matplotlib.pyplot as plt\n",
    "p3 = p1.difference(p2)\n",
    "for p in p3:\n",
    "    plt.plot(*p.exterior.xy)\n",
    "plt.show()"
   ]
  },
  {
   "cell_type": "code",
   "execution_count": 23,
   "metadata": {},
   "outputs": [
    {
     "data": {
      "text/plain": [
       "(array(['sample_2', 'Expert', 'sample_1', 'sample_3'], dtype=object),\n",
       " array(['rectangle', 'circle'], dtype=object))"
      ]
     },
     "execution_count": 23,
     "metadata": {},
     "output_type": "execute_result"
    }
   ],
   "source": [
    "df_raw.user_name.unique(), df_raw[\"shape\"].unique()"
   ]
  },
  {
   "cell_type": "code",
   "execution_count": 224,
   "metadata": {},
   "outputs": [],
   "source": [
    "def get_intersection_area(point,point):\n",
    "    \n",
    "    \n",
    "    \n",
    "def get_intersection_area(point,points):\n",
    "    \n",
    "def get_dist_to_point(point1,point2,verbose=True, metric=\"euclead\"):\n",
    "    if verbose:\n",
    "        print(\"get dist\",point2)\n",
    "    if metric==\"euclead\":\n",
    "        return math.sqrt(\n",
    "            (point1.xcenter - point2.xcenter)**2+(point1.ycenter - point2.ycenter)**2\n",
    "        )\n",
    "    if metric==\"manhattan\":\n",
    "        return  abs(point1.xcenter - point2.xcenter),abs(point1.ycenter - point2.ycenter)\n",
    "    return None\n",
    "    \n",
    "\n",
    "def get_closest_point(raw_point, raw_points, verbose=True,options={\"metric\":\"euclead\"}):\n",
    "    if verbose:\n",
    "        print(\"get closest\",raw_points)\n",
    "    dists = raw_points.reset_index().apply(lambda x:\n",
    "                                           get_dist_to_point(\n",
    "                                               raw_point,x,verbose=verbose,metric=options[\"metric\"]),\n",
    "                                           axis=1)\n",
    "    if verbose:\n",
    "        print(raw_point.xcenter, raw_point.ycenter,\"dist\", dists.min(),raw_points.shape)\n",
    "    return raw_points.reset_index().iloc[dists.idxmin()]\n",
    "\n",
    "def is_point_good(point1, point2, verbose=True):\n",
    "    x_shapes = point1.rhorizontal + point2.rhorizontal\n",
    "    y_shapes = point1.rvertical + point2.rvertical\n",
    "    x_dist,y_dist=get_dist_to_point(point1,point2,verbose=verbose, metric=\"manhattan\")\n",
    "    if x_dist>0.9*x_shapes or y_dist>0.9*y_shapes:\n",
    "        return False\n",
    "    return True\n",
    "def is_closes_point_good(raw_point, raw_points, verbose=True,options={\"metric\":\"euclead\"}):\n",
    "    closest=get_closest_point(raw_point, raw_points, verbose=verbose,options=options)\n",
    "    if verbose:\n",
    "        print(\"is closes good\",raw_point,closest)\n",
    "    return is_point_good(raw_point, closest, verbose=verbose)\n",
    "\n",
    "def get_bad_num(points1,points2,verbose=False,options={}):\n",
    "  #  print(points1.shape)\n",
    "    badlist = [not is_closes_point_good(p1[1],points2,verbose=verbose) for p1 in points1.iterrows()]\n",
    "    if verbose:\n",
    "        print(badlist)\n",
    "    return int(sum(badlist))"
   ]
  },
  {
   "cell_type": "code",
   "execution_count": 225,
   "metadata": {},
   "outputs": [],
   "source": [
    "file_names = df_raw.file_name.unique()\n",
    "file_name = file_names[0]\n",
    "ind=1"
   ]
  },
  {
   "cell_type": "code",
   "execution_count": 271,
   "metadata": {},
   "outputs": [
    {
     "name": "stdout",
     "output_type": "stream",
     "text": [
      "     badcount_Expert  badcount_neuro     file_name    sample  target\n",
      "0                0.0             0.0  00000150_002  sample_1     5.0\n",
      "1                0.0             0.0  00000150_002  sample_2     5.0\n",
      "2                0.0             0.0  00000150_002  sample_3     3.0\n",
      "3                0.0             1.0  00000181_061  sample_1     4.0\n",
      "4                0.0             1.0  00000181_061  sample_2     4.0\n",
      "..               ...             ...           ...       ...     ...\n",
      "295              0.0             0.0  00018980_002  sample_2     NaN\n",
      "296              1.0             1.0  00018980_002  sample_3     NaN\n",
      "297              0.0             0.0  00016267_000  sample_1     NaN\n",
      "298              0.0             0.0  00016267_000  sample_2     NaN\n",
      "299              0.0             1.0  00016267_000  sample_3     NaN\n",
      "\n",
      "[300 rows x 5 columns]\n",
      "CPU times: user 4.57 s, sys: 0 ns, total: 4.57 s\n",
      "Wall time: 4.57 s\n"
     ]
    }
   ],
   "source": [
    "%%time\n",
    "df_train =pd.DataFrame()\n",
    "\n",
    "for file_name in  df_raw.file_name.unique():\n",
    "    df_file = df_raw[df_raw[\"file_name\"] == file_name] \n",
    "   # print(file_name)\n",
    "    for ind in [1,2,3]:\n",
    "        sample=\"sample_\"+str(ind)\n",
    "        \n",
    "        target = df_exp.loc[file_name+\".png\"][\"Sample \"+str(ind)\n",
    "                                             ] if file_name+\".png\" in df_exp.index else None\n",
    "     #   print(sample)\n",
    "        if df_file[df_file[\"user_name\"]==sample].shape[0]==0:\n",
    "            df_train=df_train.append(pd.Series({\"file_name\":file_name,\"sample\":sample,\n",
    "                                            \"badcount_Expert\":\n",
    "                                                df_file[df_file[\"user_name\"]==\"Expert\"].shape[0],\n",
    "                                             \"badcount_neuro\":0,\n",
    "                                               \"target\":target}),\n",
    "                                  ignore_index=True)\n",
    "            continue\n",
    "        if  df_file[df_file[\"user_name\"]==\"Expert\"].shape[0]==0:\n",
    "            df_train=df_train.append(pd.Series({\"file_name\":file_name,\"sample\":sample,\n",
    "                                            \"badcount_Expert\":\n",
    "                                              0,\n",
    "                                             \"badcount_neuro\":df_file[df_file[\"user_name\"]==sample].shape[0],\n",
    "                                               \"target\":target}),\n",
    "                                  ignore_index=True)\n",
    "            continue\n",
    "            \n",
    "        badcount_exp=get_bad_num(df_file[df_file[\"user_name\"]==\"Expert\"],df_file[df_file[\"user_name\"]==sample],\n",
    "                   verbose=False)\n",
    "\n",
    "        badcount_neuro=get_bad_num(df_file[df_file[\"user_name\"]==sample],df_file[df_file[\"user_name\"]==\"Expert\"],\n",
    "                   verbose=False)\n",
    "        df_train=df_train.append(pd.Series({\"file_name\":file_name,\"sample\":sample,\n",
    "                                            \"badcount_Expert\":int(badcount_exp),\n",
    "                                             \"badcount_neuro\":int(badcount_neuro),\n",
    "                                           \"target\":target}),\n",
    "                                  ignore_index=True)\n",
    "print(df_train)"
   ]
  },
  {
   "cell_type": "code",
   "execution_count": 311,
   "metadata": {},
   "outputs": [],
   "source": [
    "df_train.to_csv(\"df_train.csv\")"
   ]
  },
  {
   "cell_type": "code",
   "execution_count": 281,
   "metadata": {},
   "outputs": [],
   "source": [
    "import sklearn\n",
    "from sklearn.model_selection import train_test_split\n",
    "from sklearn.tree import DecisionTreeRegressor\n",
    "from sklearn.metrics import mean_absolute_error, r2_score\n",
    "import lightgbm"
   ]
  },
  {
   "cell_type": "code",
   "execution_count": 308,
   "metadata": {},
   "outputs": [
    {
     "data": {
      "text/plain": [
       "((135, 5), (135,), (45, 5), (45,))"
      ]
     },
     "execution_count": 308,
     "metadata": {},
     "output_type": "execute_result"
    }
   ],
   "source": [
    "X_train, X_test, y_train, y_test =  train_test_split(df_train[~df_train.target.isna()],\n",
    "                                                    df_train[~df_train.target.isna()][\"target\"],\n",
    "                                                   )\n",
    "X_train.shape, y_train.shape, X_test.shape,y_test.shape"
   ]
  },
  {
   "cell_type": "code",
   "execution_count": 382,
   "metadata": {},
   "outputs": [
    {
     "name": "stdout",
     "output_type": "stream",
     "text": [
      "[('test mae', 0.8128062678062677, 'r2', 0.28511110718665256), ('test mae', 0.7346276648000785, 'r2', 0.48774251483919673), ('test mae', 0.9055521783181357, 'r2', 0.34429514217646595), ('test mae', 0.9061917359536408, 'r2', 0.45952261326396815)]\n",
      "[('train mae', 0.705622032288699, 'r2', 0.562515814777328), ('train mae', 0.7446442021154664, 'r2', 0.517843519099445), ('train mae', 0.6966771736275282, 'r2', 0.5509466931546685), ('train mae', 0.7406567565297725, 'r2', 0.4997061791552593)]\n",
      "0.7592141500474834\n"
     ]
    }
   ],
   "source": [
    "from sklearn.model_selection import KFold\n",
    "def cross_val(ld,df=df_train):\n",
    "    df = df[~df.target.isna()]\n",
    "    file_names =  df.file_name.unique();\n",
    "    kf = KFold(n_splits=4,random_state=42)\n",
    "    res_list=list()\n",
    "    lr_list=list()\n",
    "    for train_index, test_index in kf.split(file_names):\n",
    "        files_train, files_test = file_names[train_index], file_names[test_index]\n",
    "        X_train = df[df.file_name.isin(files_train)]\n",
    "        X_test = df[df.file_name.isin(files_test)]\n",
    "        y_train=X_train.target\n",
    "        y_test=X_test.target\n",
    "        lr,res=fit_and_check(ld,X_train=X_train,X_test=X_test,y_train=y_train,y_test=y_test)\n",
    "        res_list.append(res)\n",
    "        lr_list.append(lr)\n",
    "    print([l[0] for l in res_list])\n",
    "    print([l[1] for l in res_list])\n",
    "    \n",
    "    return res_list,lr_list\n",
    "\n",
    "\n",
    "def fit_and_check(lr,X_train=X_train,X_test=X_test,y_train=y_train,y_test=y_test,\n",
    "                 train_cols = [\"badcount_Expert\", \"badcount_neuro\"]\n",
    "            ):\n",
    "    lr.fit(X_train[train_cols],y_train)\n",
    "    y_pred = lr.predict(X_test[train_cols])\n",
    "    y_train_pr = lr.predict(X_train[train_cols])\n",
    "   # print(\"test mae\",mean_absolute_error(y_test,y_pred),\"r2\",r2_score(y_test,y_pred))\n",
    "   # print(\"train mae\",mean_absolute_error(y_train,y_train_pr),\"r2\",r2_score(y_train,y_train_pr))\n",
    "    return(lr,((\"test mae\",mean_absolute_error(y_test,y_pred),\"r2\",r2_score(y_test,y_pred)),\n",
    "    (\"train mae\",mean_absolute_error(y_train,y_train_pr),\"r2\",r2_score(y_train,y_train_pr))))\n",
    "res = cross_val(DecisionTreeRegressor(max_depth=5))\n",
    "print(sum([v[1] for v in res[0][0]])/len(res))"
   ]
  },
  {
   "cell_type": "code",
   "execution_count": 404,
   "metadata": {},
   "outputs": [
    {
     "name": "stdout",
     "output_type": "stream",
     "text": [
      "[('test mae', 0.7929679771312759, 'r2', 0.3209721004803586), ('test mae', 0.793464643375618, 'r2', 0.4512319956071662), ('test mae', 0.9760283546072942, 'r2', 0.32885179540936216), ('test mae', 0.9608578195522415, 'r2', 0.43537754821282504)]\n",
      "[('train mae', 0.7820982877250612, 'r2', 0.5032202924004355), ('train mae', 0.8699063788415587, 'r2', 0.4455736555085773), ('train mae', 0.8081165629332717, 'r2', 0.49679981461129163), ('train mae', 0.81811987798341, 'r2', 0.4448987572321521)]\n",
      "0.8808296986666073\n",
      "0.8195602768708254\n"
     ]
    },
    {
     "data": {
      "text/plain": [
       "(None, None)"
      ]
     },
     "execution_count": 404,
     "metadata": {},
     "output_type": "execute_result"
    }
   ],
   "source": [
    "res = cross_val(lightgbm.LGBMRegressor(max_depth=100,n_estimators=1000))\n",
    "print(sum([v[0][1] for v in res[0]])/len(res[0])), print(sum([v[1][1] for v in res[0]])/len(res[0]))"
   ]
  },
  {
   "cell_type": "code",
   "execution_count": 402,
   "metadata": {},
   "outputs": [
    {
     "name": "stdout",
     "output_type": "stream",
     "text": [
      "[('test mae', 0.9021661565867627, 'r2', 0.16550597965939307), ('test mae', 0.8924799049551112, 'r2', 0.34370634044655024), ('test mae', 1.200199780175084, 'r2', -0.014195629426553058), ('test mae', 1.0170294599705219, 'r2', 0.33739192979021804)]\n",
      "[('train mae', 0.9878875442112404, 'r2', 0.32765625604115), ('train mae', 1.006405408117552, 'r2', 0.2679682597501568), ('train mae', 0.8644178469363032, 'r2', 0.37959445136636394), ('train mae', 0.9510779202006606, 'r2', 0.2692244509773358)]\n",
      "1.00296882542187\n",
      "0.9524471798664391\n"
     ]
    },
    {
     "data": {
      "text/plain": [
       "(None, None)"
      ]
     },
     "execution_count": 402,
     "metadata": {},
     "output_type": "execute_result"
    }
   ],
   "source": [
    "res = cross_val(sklearn.linear_model.LinearRegression())\n",
    "print(sum([v[0][1] for v in res[0]])/len(res[0])), print(sum([v[1][1] for v in res[0]])/len(res[0]))"
   ]
  },
  {
   "cell_type": "code",
   "execution_count": 401,
   "metadata": {},
   "outputs": [
    {
     "name": "stdout",
     "output_type": "stream",
     "text": [
      "[('test mae', 0.6888888888888889, 'r2', 0.2837078651685392), ('test mae', 0.6666666666666666, 'r2', 0.24284913067863145), ('test mae', 0.7777777777777778, 'r2', 0.30257510729613746), ('test mae', 0.8888888888888888, 'r2', 0.27765726681127967)]\n",
      "[('train mae', 0.6666666666666666, 'r2', 0.3656015037593987), ('train mae', 0.7185185185185186, 'r2', 0.32622842331660495), ('train mae', 0.674074074074074, 'r2', 0.33138053998981165), ('train mae', 0.6814814814814815, 'r2', 0.29011054675829095)]\n",
      "0.7555555555555555\n",
      "0.6851851851851852\n"
     ]
    },
    {
     "name": "stderr",
     "output_type": "stream",
     "text": [
      "/home/rumata/anaconda3/lib/python3.7/site-packages/sklearn/svm/base.py:193: FutureWarning: The default value of gamma will change from 'auto' to 'scale' in version 0.22 to account better for unscaled features. Set gamma explicitly to 'auto' or 'scale' to avoid this warning.\n",
      "  \"avoid this warning.\", FutureWarning)\n",
      "/home/rumata/anaconda3/lib/python3.7/site-packages/sklearn/svm/base.py:193: FutureWarning: The default value of gamma will change from 'auto' to 'scale' in version 0.22 to account better for unscaled features. Set gamma explicitly to 'auto' or 'scale' to avoid this warning.\n",
      "  \"avoid this warning.\", FutureWarning)\n",
      "/home/rumata/anaconda3/lib/python3.7/site-packages/sklearn/svm/base.py:193: FutureWarning: The default value of gamma will change from 'auto' to 'scale' in version 0.22 to account better for unscaled features. Set gamma explicitly to 'auto' or 'scale' to avoid this warning.\n",
      "  \"avoid this warning.\", FutureWarning)\n",
      "/home/rumata/anaconda3/lib/python3.7/site-packages/sklearn/svm/base.py:193: FutureWarning: The default value of gamma will change from 'auto' to 'scale' in version 0.22 to account better for unscaled features. Set gamma explicitly to 'auto' or 'scale' to avoid this warning.\n",
      "  \"avoid this warning.\", FutureWarning)\n"
     ]
    },
    {
     "data": {
      "text/plain": [
       "(None, None)"
      ]
     },
     "execution_count": 401,
     "metadata": {},
     "output_type": "execute_result"
    }
   ],
   "source": [
    "res = cross_val(sklearn.svm.SVC())\n",
    "print(sum([v[0][1] for v in res[0]])/len(res[0])), print(sum([v[1][1] for v in res[0]])/len(res[0]))"
   ]
  },
  {
   "cell_type": "code",
   "execution_count": 395,
   "metadata": {},
   "outputs": [
    {
     "data": {
      "text/plain": [
       "(('test mae', 0.7929679771312759, 'r2', 0.3209721004803586),\n",
       " ('train mae', 0.7820982877250612, 'r2', 0.5032202924004355))"
      ]
     },
     "execution_count": 395,
     "metadata": {},
     "output_type": "execute_result"
    }
   ],
   "source": [
    "res[0][0]"
   ]
  },
  {
   "cell_type": "code",
   "execution_count": null,
   "metadata": {},
   "outputs": [],
   "source": []
  }
 ],
 "metadata": {
  "kernelspec": {
   "display_name": "Python 3",
   "language": "python",
   "name": "python3"
  },
  "language_info": {
   "codemirror_mode": {
    "name": "ipython",
    "version": 3
   },
   "file_extension": ".py",
   "mimetype": "text/x-python",
   "name": "python",
   "nbconvert_exporter": "python",
   "pygments_lexer": "ipython3",
   "version": "3.7.3"
  }
 },
 "nbformat": 4,
 "nbformat_minor": 2
}
